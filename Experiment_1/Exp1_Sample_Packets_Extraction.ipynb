{
 "cells": [
  {
   "cell_type": "markdown",
   "id": "12ba28d2",
   "metadata": {},
   "source": [
    "* *LOAD DATA*"
   ]
  },
  {
   "cell_type": "code",
   "execution_count": 2,
   "id": "fd381477",
   "metadata": {},
   "outputs": [
    {
     "data": {
      "text/html": [
       "<div>\n",
       "<style scoped>\n",
       "    .dataframe tbody tr th:only-of-type {\n",
       "        vertical-align: middle;\n",
       "    }\n",
       "\n",
       "    .dataframe tbody tr th {\n",
       "        vertical-align: top;\n",
       "    }\n",
       "\n",
       "    .dataframe thead th {\n",
       "        text-align: right;\n",
       "    }\n",
       "</style>\n",
       "<table border=\"1\" class=\"dataframe\">\n",
       "  <thead>\n",
       "    <tr style=\"text-align: right;\">\n",
       "      <th></th>\n",
       "      <th>No.</th>\n",
       "      <th>Time</th>\n",
       "      <th>Source</th>\n",
       "      <th>Destination</th>\n",
       "      <th>Protocol</th>\n",
       "      <th>Length</th>\n",
       "      <th>Info</th>\n",
       "    </tr>\n",
       "  </thead>\n",
       "  <tbody>\n",
       "    <tr>\n",
       "      <th>0</th>\n",
       "      <td>1</td>\n",
       "      <td>0.000000</td>\n",
       "      <td>0x1de6</td>\n",
       "      <td>Broadcast</td>\n",
       "      <td>ZigBee</td>\n",
       "      <td>80</td>\n",
       "      <td>Link Status</td>\n",
       "    </tr>\n",
       "    <tr>\n",
       "      <th>1</th>\n",
       "      <td>2</td>\n",
       "      <td>8.041278</td>\n",
       "      <td>0x1de6</td>\n",
       "      <td>0xd7a7</td>\n",
       "      <td>ZigBee HA</td>\n",
       "      <td>69</td>\n",
       "      <td>ZCL: Read Attributes Response, Seq: 216</td>\n",
       "    </tr>\n",
       "    <tr>\n",
       "      <th>2</th>\n",
       "      <td>3</td>\n",
       "      <td>8.073592</td>\n",
       "      <td>0x1de6</td>\n",
       "      <td>0xd7a7</td>\n",
       "      <td>ZigBee HA</td>\n",
       "      <td>61</td>\n",
       "      <td>ZCL: Read Attributes Response, Seq: 217</td>\n",
       "    </tr>\n",
       "    <tr>\n",
       "      <th>3</th>\n",
       "      <td>4</td>\n",
       "      <td>14.242098</td>\n",
       "      <td>0x1de6</td>\n",
       "      <td>Broadcast</td>\n",
       "      <td>ZigBee</td>\n",
       "      <td>80</td>\n",
       "      <td>Link Status</td>\n",
       "    </tr>\n",
       "    <tr>\n",
       "      <th>4</th>\n",
       "      <td>5</td>\n",
       "      <td>20.786429</td>\n",
       "      <td>0x1de6</td>\n",
       "      <td>0xd7a7</td>\n",
       "      <td>ZigBee HA</td>\n",
       "      <td>69</td>\n",
       "      <td>ZCL: Read Attributes Response, Seq: 239</td>\n",
       "    </tr>\n",
       "  </tbody>\n",
       "</table>\n",
       "</div>"
      ],
      "text/plain": [
       "   No.       Time  Source Destination   Protocol  Length  \\\n",
       "0    1   0.000000  0x1de6   Broadcast     ZigBee      80   \n",
       "1    2   8.041278  0x1de6      0xd7a7  ZigBee HA      69   \n",
       "2    3   8.073592  0x1de6      0xd7a7  ZigBee HA      61   \n",
       "3    4  14.242098  0x1de6   Broadcast     ZigBee      80   \n",
       "4    5  20.786429  0x1de6      0xd7a7  ZigBee HA      69   \n",
       "\n",
       "                                      Info  \n",
       "0                              Link Status  \n",
       "1  ZCL: Read Attributes Response, Seq: 216  \n",
       "2  ZCL: Read Attributes Response, Seq: 217  \n",
       "3                              Link Status  \n",
       "4  ZCL: Read Attributes Response, Seq: 239  "
      ]
     },
     "execution_count": 2,
     "metadata": {},
     "output_type": "execute_result"
    }
   ],
   "source": [
    "import os\n",
    "import pandas as pd\n",
    "\n",
    "data_directory = r'..\\Datasets'\n",
    "data_name = r'device_0x1de6_to_hub' # Unidirectional traffic from device 0x1de6 to bridge\n",
    "file_name = os.path.join(data_directory, data_name + '.csv')\n",
    "\n",
    "df = pd.read_csv(file_name)\n",
    "df.head(5)"
   ]
  },
  {
   "cell_type": "markdown",
   "id": "b68bd022",
   "metadata": {},
   "source": [
    "* Detailed Information of Packages"
   ]
  },
  {
   "cell_type": "code",
   "execution_count": 3,
   "id": "d0055956",
   "metadata": {},
   "outputs": [
    {
     "name": "stdout",
     "output_type": "stream",
     "text": [
      "Number of unique_source  : 1\n",
      "['0x1de6']\n"
     ]
    }
   ],
   "source": [
    "unique_source = df['Source'].nunique()\n",
    "print(f\"Number of unique_source  : {unique_source }\")\n",
    "\n",
    "Source_names = df['Source'].unique()\n",
    "print(Source_names)"
   ]
  },
  {
   "cell_type": "code",
   "execution_count": 4,
   "id": "47c4fd90",
   "metadata": {},
   "outputs": [
    {
     "name": "stdout",
     "output_type": "stream",
     "text": [
      "Number of Unique destination : 2\n",
      "['Broadcast' '0xd7a7']\n"
     ]
    }
   ],
   "source": [
    "unique_destination = df['Destination'].nunique()\n",
    "print(f\"Number of Unique destination : {unique_destination}\")\n",
    "\n",
    "destination_names = df['Destination'].unique()\n",
    "print(destination_names)\n",
    "# Broadcast == 0xfffc"
   ]
  },
  {
   "cell_type": "code",
   "execution_count": 5,
   "id": "6ee8b095",
   "metadata": {},
   "outputs": [
    {
     "name": "stdout",
     "output_type": "stream",
     "text": [
      "Number of Unique protocol : 3\n",
      "['ZigBee' 'ZigBee HA' 'ZigBee ZDP']\n"
     ]
    }
   ],
   "source": [
    "unique_protocols = df['Protocol'].nunique()\n",
    "print(f\"Number of Unique protocol : {unique_protocols}\")\n",
    "\n",
    "protocol_names = df['Protocol'].unique()\n",
    "print(protocol_names)"
   ]
  },
  {
   "cell_type": "code",
   "execution_count": 6,
   "id": "fe0b7302",
   "metadata": {},
   "outputs": [
    {
     "name": "stdout",
     "output_type": "stream",
     "text": [
      "Length range: min = 51, max = 114\n"
     ]
    }
   ],
   "source": [
    "df['Length'] = pd.to_numeric(df['Length'], errors='coerce')  # makes errors NaN\n",
    "\n",
    "min_length = df['Length'].min()\n",
    "max_length = df['Length'].max()\n",
    "print(f\"Length range: min = {min_length}, max = {max_length}\")"
   ]
  },
  {
   "cell_type": "code",
   "execution_count": 7,
   "id": "963be4b0",
   "metadata": {},
   "outputs": [
    {
     "name": "stdout",
     "output_type": "stream",
     "text": [
      "Length values ​​and frequencies:\n",
      "Length\n",
      "51          3\n",
      "53       4347\n",
      "54       2084\n",
      "56          5\n",
      "57        352\n",
      "58       3282\n",
      "59          5\n",
      "60        127\n",
      "61      33404\n",
      "62       2124\n",
      "63      87260\n",
      "65          7\n",
      "66          1\n",
      "68       1894\n",
      "69     124237\n",
      "71      51609\n",
      "72       2095\n",
      "74        209\n",
      "77       7954\n",
      "80      49733\n",
      "82          2\n",
      "84          2\n",
      "100       139\n",
      "105         1\n",
      "109         1\n",
      "111         1\n",
      "114         1\n",
      "Name: count, dtype: int64\n"
     ]
    }
   ],
   "source": [
    "length_counts = df['Length'].value_counts().sort_index()\n",
    "\n",
    "print(\"Length values ​​and frequencies:\")\n",
    "print(length_counts)"
   ]
  },
  {
   "cell_type": "code",
   "execution_count": 8,
   "id": "3cf0f31d",
   "metadata": {},
   "outputs": [
    {
     "name": "stdout",
     "output_type": "stream",
     "text": [
      "Number of different info types: 22\n"
     ]
    }
   ],
   "source": [
    "df['Info_clean'] = df['Info'].str.split('Seq:').str[0].str.strip()\n",
    "\n",
    "unique_info_types = df['Info_clean'].unique()\n",
    "num_unique_info_types = len(unique_info_types)\n",
    "\n",
    "print(f\"Number of different info types: {num_unique_info_types}\")"
   ]
  },
  {
   "cell_type": "code",
   "execution_count": 9,
   "id": "e7a0ecec",
   "metadata": {},
   "outputs": [
    {
     "name": "stdout",
     "output_type": "stream",
     "text": [
      "Info Types ​​and frequencies:\n",
      "Info_clean\n",
      "Link Status                                                             111268\n",
      "Network Status, 0x1de6: Many-to-One Route Failure                           69\n",
      "Network Status, 0x6395: Many-to-One Route Failure                            1\n",
      "Network Status, 0x9f06: Many-to-One Route Failure                            1\n",
      "Network Status, 0xb85c: Many-to-One Route Failure                           14\n",
      "Network Status, 0xdfe1: Many-to-One Route Failure                            1\n",
      "Node Descriptor Response, Rev: 22, Nwk Addr: 0x1de6, Status: Success         1\n",
      "Route Reply, Responder: 0x1de6, Originator: 0xd7a7                          36\n",
      "Route Reply, Responder: 0x2a30, Originator: 0xd7a7                          19\n",
      "Route Reply, Responder: 0x9f06, Originator: 0xd7a7                           3\n",
      "Route Reply, Responder: 0xa163, Originator: 0xd7a7                           1\n",
      "Route Reply, Responder: 0xb85c, Originator: 0xd7a7                          44\n",
      "Route Reply, Responder: 0xdfe1, Originator: 0xd7a7                          34\n",
      "Route Reply, Responder: 0xe8eb, Originator: 0xd7a7                           3\n",
      "Route Request, Dst: 0xd7a7, Src: 0x1de6                                      4\n",
      "Simple Descriptor Response, Nwk Addr: 0x1de6, Status: Success                2\n",
      "Unknown Command: 0xc1,                                                       2\n",
      "ZCL Groups: Get Group Membership Response,                                3149\n",
      "ZCL OTA: Query Next Image Request,                                         266\n",
      "ZCL Scenes: Get Scene Membership Response,                                3106\n",
      "ZCL: Read Attributes Response,                                          252852\n",
      "ZCL: Write Attributes Response,                                              3\n",
      "Name: count, dtype: int64\n"
     ]
    }
   ],
   "source": [
    "info_type_freq = df['Info_clean'].value_counts().sort_index()\n",
    "\n",
    "print(\"Info Types ​​and frequencies:\")\n",
    "print(info_type_freq)"
   ]
  },
  {
   "cell_type": "code",
   "execution_count": 10,
   "id": "e8550ac4",
   "metadata": {},
   "outputs": [],
   "source": [
    "with open('Experiment_1_one_way_communication_info_type_freq.txt', 'w') as f:\n",
    "    f.write(\"Length values and frequencies:\\n\")\n",
    "    f.write(info_type_freq.to_string())"
   ]
  },
  {
   "cell_type": "code",
   "execution_count": 11,
   "id": "75bb37dc",
   "metadata": {},
   "outputs": [
    {
     "data": {
      "text/html": [
       "<div>\n",
       "<style scoped>\n",
       "    .dataframe tbody tr th:only-of-type {\n",
       "        vertical-align: middle;\n",
       "    }\n",
       "\n",
       "    .dataframe tbody tr th {\n",
       "        vertical-align: top;\n",
       "    }\n",
       "\n",
       "    .dataframe thead th {\n",
       "        text-align: right;\n",
       "    }\n",
       "</style>\n",
       "<table border=\"1\" class=\"dataframe\">\n",
       "  <thead>\n",
       "    <tr style=\"text-align: right;\">\n",
       "      <th></th>\n",
       "      <th>No.</th>\n",
       "      <th>Time</th>\n",
       "      <th>Source</th>\n",
       "      <th>Destination</th>\n",
       "      <th>Protocol</th>\n",
       "      <th>Length</th>\n",
       "      <th>Info</th>\n",
       "      <th>Info_clean</th>\n",
       "    </tr>\n",
       "  </thead>\n",
       "  <tbody>\n",
       "    <tr>\n",
       "      <th>0</th>\n",
       "      <td>1</td>\n",
       "      <td>0.000000</td>\n",
       "      <td>0x1de6</td>\n",
       "      <td>Broadcast</td>\n",
       "      <td>ZigBee</td>\n",
       "      <td>80</td>\n",
       "      <td>Link Status</td>\n",
       "      <td>Link Status</td>\n",
       "    </tr>\n",
       "    <tr>\n",
       "      <th>1</th>\n",
       "      <td>2</td>\n",
       "      <td>8.041278</td>\n",
       "      <td>0x1de6</td>\n",
       "      <td>0xd7a7</td>\n",
       "      <td>ZigBee HA</td>\n",
       "      <td>69</td>\n",
       "      <td>ZCL: Read Attributes Response, Seq: 216</td>\n",
       "      <td>ZCL: Read Attributes Response,</td>\n",
       "    </tr>\n",
       "    <tr>\n",
       "      <th>2</th>\n",
       "      <td>3</td>\n",
       "      <td>8.073592</td>\n",
       "      <td>0x1de6</td>\n",
       "      <td>0xd7a7</td>\n",
       "      <td>ZigBee HA</td>\n",
       "      <td>61</td>\n",
       "      <td>ZCL: Read Attributes Response, Seq: 217</td>\n",
       "      <td>ZCL: Read Attributes Response,</td>\n",
       "    </tr>\n",
       "  </tbody>\n",
       "</table>\n",
       "</div>"
      ],
      "text/plain": [
       "   No.      Time  Source Destination   Protocol  Length  \\\n",
       "0    1  0.000000  0x1de6   Broadcast     ZigBee      80   \n",
       "1    2  8.041278  0x1de6      0xd7a7  ZigBee HA      69   \n",
       "2    3  8.073592  0x1de6      0xd7a7  ZigBee HA      61   \n",
       "\n",
       "                                      Info                      Info_clean  \n",
       "0                              Link Status                     Link Status  \n",
       "1  ZCL: Read Attributes Response, Seq: 216  ZCL: Read Attributes Response,  \n",
       "2  ZCL: Read Attributes Response, Seq: 217  ZCL: Read Attributes Response,  "
      ]
     },
     "execution_count": 11,
     "metadata": {},
     "output_type": "execute_result"
    }
   ],
   "source": [
    "df.head(3)"
   ]
  },
  {
   "cell_type": "markdown",
   "id": "e8ccdcca",
   "metadata": {},
   "source": [
    "*CHOOSE FIRST 10 MINUTES PACKAGES*"
   ]
  },
  {
   "cell_type": "code",
   "execution_count": 12,
   "id": "8258bebb",
   "metadata": {},
   "outputs": [
    {
     "data": {
      "text/html": [
       "<div>\n",
       "<style scoped>\n",
       "    .dataframe tbody tr th:only-of-type {\n",
       "        vertical-align: middle;\n",
       "    }\n",
       "\n",
       "    .dataframe tbody tr th {\n",
       "        vertical-align: top;\n",
       "    }\n",
       "\n",
       "    .dataframe thead th {\n",
       "        text-align: right;\n",
       "    }\n",
       "</style>\n",
       "<table border=\"1\" class=\"dataframe\">\n",
       "  <thead>\n",
       "    <tr style=\"text-align: right;\">\n",
       "      <th></th>\n",
       "      <th>No.</th>\n",
       "      <th>Time</th>\n",
       "      <th>Source</th>\n",
       "      <th>Destination</th>\n",
       "      <th>Protocol</th>\n",
       "      <th>Length</th>\n",
       "      <th>Info</th>\n",
       "      <th>Info_clean</th>\n",
       "    </tr>\n",
       "  </thead>\n",
       "  <tbody>\n",
       "    <tr>\n",
       "      <th>0</th>\n",
       "      <td>1</td>\n",
       "      <td>0.000000</td>\n",
       "      <td>0x1de6</td>\n",
       "      <td>Broadcast</td>\n",
       "      <td>ZigBee</td>\n",
       "      <td>80</td>\n",
       "      <td>Link Status</td>\n",
       "      <td>Link Status</td>\n",
       "    </tr>\n",
       "    <tr>\n",
       "      <th>1</th>\n",
       "      <td>2</td>\n",
       "      <td>8.041278</td>\n",
       "      <td>0x1de6</td>\n",
       "      <td>0xd7a7</td>\n",
       "      <td>ZigBee HA</td>\n",
       "      <td>69</td>\n",
       "      <td>ZCL: Read Attributes Response, Seq: 216</td>\n",
       "      <td>ZCL: Read Attributes Response,</td>\n",
       "    </tr>\n",
       "    <tr>\n",
       "      <th>2</th>\n",
       "      <td>3</td>\n",
       "      <td>8.073592</td>\n",
       "      <td>0x1de6</td>\n",
       "      <td>0xd7a7</td>\n",
       "      <td>ZigBee HA</td>\n",
       "      <td>61</td>\n",
       "      <td>ZCL: Read Attributes Response, Seq: 217</td>\n",
       "      <td>ZCL: Read Attributes Response,</td>\n",
       "    </tr>\n",
       "    <tr>\n",
       "      <th>3</th>\n",
       "      <td>4</td>\n",
       "      <td>14.242098</td>\n",
       "      <td>0x1de6</td>\n",
       "      <td>Broadcast</td>\n",
       "      <td>ZigBee</td>\n",
       "      <td>80</td>\n",
       "      <td>Link Status</td>\n",
       "      <td>Link Status</td>\n",
       "    </tr>\n",
       "    <tr>\n",
       "      <th>4</th>\n",
       "      <td>5</td>\n",
       "      <td>20.786429</td>\n",
       "      <td>0x1de6</td>\n",
       "      <td>0xd7a7</td>\n",
       "      <td>ZigBee HA</td>\n",
       "      <td>69</td>\n",
       "      <td>ZCL: Read Attributes Response, Seq: 239</td>\n",
       "      <td>ZCL: Read Attributes Response,</td>\n",
       "    </tr>\n",
       "    <tr>\n",
       "      <th>5</th>\n",
       "      <td>6</td>\n",
       "      <td>20.812187</td>\n",
       "      <td>0x1de6</td>\n",
       "      <td>0xd7a7</td>\n",
       "      <td>ZigBee HA</td>\n",
       "      <td>61</td>\n",
       "      <td>ZCL: Read Attributes Response, Seq: 240</td>\n",
       "      <td>ZCL: Read Attributes Response,</td>\n",
       "    </tr>\n",
       "    <tr>\n",
       "      <th>6</th>\n",
       "      <td>7</td>\n",
       "      <td>28.563272</td>\n",
       "      <td>0x1de6</td>\n",
       "      <td>Broadcast</td>\n",
       "      <td>ZigBee</td>\n",
       "      <td>80</td>\n",
       "      <td>Link Status</td>\n",
       "      <td>Link Status</td>\n",
       "    </tr>\n",
       "    <tr>\n",
       "      <th>7</th>\n",
       "      <td>8</td>\n",
       "      <td>33.568030</td>\n",
       "      <td>0x1de6</td>\n",
       "      <td>0xd7a7</td>\n",
       "      <td>ZigBee HA</td>\n",
       "      <td>69</td>\n",
       "      <td>ZCL: Read Attributes Response, Seq: 6</td>\n",
       "      <td>ZCL: Read Attributes Response,</td>\n",
       "    </tr>\n",
       "    <tr>\n",
       "      <th>8</th>\n",
       "      <td>9</td>\n",
       "      <td>33.597885</td>\n",
       "      <td>0x1de6</td>\n",
       "      <td>0xd7a7</td>\n",
       "      <td>ZigBee HA</td>\n",
       "      <td>61</td>\n",
       "      <td>ZCL: Read Attributes Response, Seq: 7</td>\n",
       "      <td>ZCL: Read Attributes Response,</td>\n",
       "    </tr>\n",
       "    <tr>\n",
       "      <th>9</th>\n",
       "      <td>10</td>\n",
       "      <td>43.930759</td>\n",
       "      <td>0x1de6</td>\n",
       "      <td>Broadcast</td>\n",
       "      <td>ZigBee</td>\n",
       "      <td>80</td>\n",
       "      <td>Link Status</td>\n",
       "      <td>Link Status</td>\n",
       "    </tr>\n",
       "  </tbody>\n",
       "</table>\n",
       "</div>"
      ],
      "text/plain": [
       "   No.       Time  Source Destination   Protocol  Length  \\\n",
       "0    1   0.000000  0x1de6   Broadcast     ZigBee      80   \n",
       "1    2   8.041278  0x1de6      0xd7a7  ZigBee HA      69   \n",
       "2    3   8.073592  0x1de6      0xd7a7  ZigBee HA      61   \n",
       "3    4  14.242098  0x1de6   Broadcast     ZigBee      80   \n",
       "4    5  20.786429  0x1de6      0xd7a7  ZigBee HA      69   \n",
       "5    6  20.812187  0x1de6      0xd7a7  ZigBee HA      61   \n",
       "6    7  28.563272  0x1de6   Broadcast     ZigBee      80   \n",
       "7    8  33.568030  0x1de6      0xd7a7  ZigBee HA      69   \n",
       "8    9  33.597885  0x1de6      0xd7a7  ZigBee HA      61   \n",
       "9   10  43.930759  0x1de6   Broadcast     ZigBee      80   \n",
       "\n",
       "                                      Info                      Info_clean  \n",
       "0                              Link Status                     Link Status  \n",
       "1  ZCL: Read Attributes Response, Seq: 216  ZCL: Read Attributes Response,  \n",
       "2  ZCL: Read Attributes Response, Seq: 217  ZCL: Read Attributes Response,  \n",
       "3                              Link Status                     Link Status  \n",
       "4  ZCL: Read Attributes Response, Seq: 239  ZCL: Read Attributes Response,  \n",
       "5  ZCL: Read Attributes Response, Seq: 240  ZCL: Read Attributes Response,  \n",
       "6                              Link Status                     Link Status  \n",
       "7    ZCL: Read Attributes Response, Seq: 6  ZCL: Read Attributes Response,  \n",
       "8    ZCL: Read Attributes Response, Seq: 7  ZCL: Read Attributes Response,  \n",
       "9                              Link Status                     Link Status  "
      ]
     },
     "execution_count": 12,
     "metadata": {},
     "output_type": "execute_result"
    }
   ],
   "source": [
    "seconds = 60 # 60 seconds = 1 minute\n",
    "num_minute = 10\n",
    "total_second = seconds * num_minute\n",
    "\n",
    "df_10min = df[df['Time'] <= total_second]\n",
    "df_10min.head(10)"
   ]
  },
  {
   "cell_type": "code",
   "execution_count": 13,
   "id": "d380eadd",
   "metadata": {},
   "outputs": [
    {
     "name": "stdout",
     "output_type": "stream",
     "text": [
      "There are 128 packages in first 10 minutes\n"
     ]
    }
   ],
   "source": [
    "print(\"There are\", len(df_10min), \"packages in first 10 minutes\")"
   ]
  },
  {
   "cell_type": "code",
   "execution_count": 14,
   "id": "c736035d",
   "metadata": {},
   "outputs": [
    {
     "name": "stdout",
     "output_type": "stream",
     "text": [
      "Info_clean\n",
      "Link Status                                   37\n",
      "ZCL Groups: Get Group Membership Response,     1\n",
      "ZCL Scenes: Get Scene Membership Response,     1\n",
      "ZCL: Read Attributes Response,                89\n",
      "Name: count, dtype: int64\n"
     ]
    }
   ],
   "source": [
    "info_type_freq_10min = df_10min['Info_clean'].value_counts().sort_index()\n",
    "print(info_type_freq_10min)"
   ]
  },
  {
   "cell_type": "code",
   "execution_count": 15,
   "id": "33aaa3af",
   "metadata": {},
   "outputs": [
    {
     "name": "stdout",
     "output_type": "stream",
     "text": [
      "JSON file saved as '\\Experiment_1_one_way_communication_10_minute_input_sample.json'.\n"
     ]
    },
    {
     "name": "stderr",
     "output_type": "stream",
     "text": [
      "<>:4: SyntaxWarning: invalid escape sequence '\\E'\n",
      "<>:4: SyntaxWarning: invalid escape sequence '\\E'\n",
      "C:\\Users\\nkelesoglu\\AppData\\Local\\Temp\\ipykernel_18648\\2430166325.py:4: SyntaxWarning: invalid escape sequence '\\E'\n",
      "  json_file_path = '\\Experiment_1_one_way_communication_10_minute_input_sample.json'\n"
     ]
    }
   ],
   "source": [
    "# Convert and save to JSON file\n",
    "data_directory = r\"..\\Datasets\"\n",
    "\n",
    "json_file_path = '\\Experiment_1_one_way_communication_10_minute_input_sample.json'\n",
    "df_10min.to_json(data_directory + json_file_path, orient='records', lines=True)\n",
    "\n",
    "# A message indicating that the file was saved successfully\n",
    "print(f\"JSON file saved as '{json_file_path}'.\")"
   ]
  }
 ],
 "metadata": {
  "kernelspec": {
   "display_name": ".venv",
   "language": "python",
   "name": "python3"
  },
  "language_info": {
   "codemirror_mode": {
    "name": "ipython",
    "version": 3
   },
   "file_extension": ".py",
   "mimetype": "text/x-python",
   "name": "python",
   "nbconvert_exporter": "python",
   "pygments_lexer": "ipython3",
   "version": "3.12.10"
  }
 },
 "nbformat": 4,
 "nbformat_minor": 5
}
